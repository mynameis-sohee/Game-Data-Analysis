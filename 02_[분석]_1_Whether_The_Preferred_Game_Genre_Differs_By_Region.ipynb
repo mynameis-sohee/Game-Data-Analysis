{
  "nbformat": 4,
  "nbformat_minor": 0,
  "metadata": {
    "colab": {
      "name": "02 [분석] 1. Whether The Preferred Game Genre Differs By Region",
      "provenance": [],
      "collapsed_sections": []
    },
    "kernelspec": {
      "name": "python3",
      "display_name": "Python 3"
    },
    "language_info": {
      "name": "python"
    }
  },
  "cells": [
    {
      "cell_type": "markdown",
      "metadata": {
        "id": "FPWS9ZlG6LcR"
      },
      "source": [
        "#**Analysis 1.  Whether The Preferred Game Genre Differs By Region**"
      ]
    },
    {
      "cell_type": "markdown",
      "metadata": {
        "id": "dDM4h6-sES8p"
      },
      "source": [
        "Conclusion : There are differences, but they are not statistically significant."
      ]
    },
    {
      "cell_type": "code",
      "metadata": {
        "id": "ps_X5USvA3tR"
      },
      "source": [
        "# Make def to find Popular Genres TOP 5 for each region\n",
        "\n",
        "def make_genre_sales(name,data_name):\n",
        "  name = pd.DataFrame(df.groupby(['Genre'])[data_name].sum() ).head(5)\n",
        "  name.reset_index(inplace=True)\n",
        "  name = name.sort_values(by=data_name,ascending=False)\n",
        "  sns.barplot(x='Genre', y=data_name, data=name,palette=\"Blues_d\").set_title(\"Popular Genres TOP 5\")\n",
        "  print('#'*5,'Values','#'*5,'\\n',df.groupby(['Genre'])[data_name].sum().head(5))"
      ],
      "execution_count": null,
      "outputs": []
    },
    {
      "cell_type": "code",
      "metadata": {
        "colab": {
          "base_uri": "https://localhost:8080/",
          "height": 436
        },
        "id": "uyA43yjDBcWR",
        "outputId": "fd23b13f-e0f7-4eec-f13f-d175cf06363b"
      },
      "source": [
        "make_genre_sales('NA','NA_Sales')"
      ],
      "execution_count": null,
      "outputs": [
        {
          "output_type": "stream",
          "text": [
            "##### Values ##### \n",
            " Genre\n",
            "Action       21470837.28\n",
            "Adventure      760101.03\n",
            "Fighting      1360218.99\n",
            "Misc          4090390.64\n",
            "Platform      5220440.16\n",
            "Name: NA_Sales, dtype: float64\n"
          ],
          "name": "stdout"
        },
        {
          "output_type": "display_data",
          "data": {
            "image/png": "[encoded data removed]",
            "text/plain": [
              "<Figure size 432x288 with 1 Axes>"
            ]
          },
          "metadata": {
            "tags": [],
            "needs_background": "light"
          }
        }
      ]
    },
    {
      "cell_type": "code",
      "metadata": {
        "colab": {
          "base_uri": "https://localhost:8080/",
          "height": 436
        },
        "id": "q7xTrFkBEDwj",
        "outputId": "587b8e98-5d68-4e94-ea54-b5c6313f2fbb"
      },
      "source": [
        "make_genre_sales('EU','EU_Sales')"
      ],
      "execution_count": null,
      "outputs": [
        {
          "output_type": "stream",
          "text": [
            "##### Values ##### \n",
            " Genre\n",
            "Action       7030506.61\n",
            "Adventure     190063.47\n",
            "Fighting     1420098.48\n",
            "Misc         2820205.33\n",
            "Platform     7620193.01\n",
            "Name: EU_Sales, dtype: float64\n"
          ],
          "name": "stdout"
        },
        {
          "output_type": "display_data",
          "data": {
            "image/png": "[encoded data removed]",
            "text/plain": [
              "<Figure size 432x288 with 1 Axes>"
            ]
          },
          "metadata": {
            "tags": [],
            "needs_background": "light"
          }
        }
      ]
    },
    {
      "cell_type": "code",
      "metadata": {
        "colab": {
          "base_uri": "https://localhost:8080/",
          "height": 436
        },
        "id": "b-KUMpBkDqPe",
        "outputId": "41ddddd9-0e31-4731-de2c-d6fd2e861c2c"
      },
      "source": [
        "make_genre_sales('JP','JP_Sales')"
      ],
      "execution_count": null,
      "outputs": [
        {
          "output_type": "stream",
          "text": [
            "##### Values ##### \n",
            " Genre\n",
            "Action       1440155.16\n",
            "Adventure      80051.79\n",
            "Fighting     1340085.80\n",
            "Misc          420103.76\n",
            "Platform      790129.74\n",
            "Name: JP_Sales, dtype: float64\n"
          ],
          "name": "stdout"
        },
        {
          "output_type": "display_data",
          "data": {
            "image/png": "[encoded data removed]",
            "text/plain": [
              "<Figure size 432x288 with 1 Axes>"
            ]
          },
          "metadata": {
            "tags": [],
            "needs_background": "light"
          }
        }
      ]
    },
    {
      "cell_type": "code",
      "metadata": {
        "colab": {
          "base_uri": "https://localhost:8080/",
          "height": 436
        },
        "id": "3YwnSSkhENqw",
        "outputId": "c0441636-98cf-4a1b-f0f8-d3a4dea01f4c"
      },
      "source": [
        "make_genre_sales('Other','Other_Sales')"
      ],
      "execution_count": null,
      "outputs": [
        {
          "output_type": "stream",
          "text": [
            "##### Values ##### \n",
            " Genre\n",
            "Action       1340182.65\n",
            "Adventure     280016.42\n",
            "Fighting      500035.65\n",
            "Misc          460072.18\n",
            "Platform      480050.97\n",
            "Name: Other_Sales, dtype: float64\n"
          ],
          "name": "stdout"
        },
        {
          "output_type": "display_data",
          "data": {
            "image/png": "[encoded data removed]",
            "text/plain": [
              "<Figure size 432x288 with 1 Axes>"
            ]
          },
          "metadata": {
            "tags": [],
            "needs_background": "light"
          }
        }
      ]
    },
    {
      "cell_type": "code",
      "metadata": {
        "id": "zUrWLSaNhZ3I"
      },
      "source": [
        "#Analyze whether these differences are statistically significant using shapiro & kruscal\n",
        "# 1) Setting Dataframe to easy to analysis\n",
        "sales_data = pd.concat([df.groupby(['Genre'])['NA_Sales'].sum(), df.groupby(['Genre'])['JP_Sales'].sum(), df.groupby(['Genre'])['EU_Sales'].sum(), df.groupby(['Genre'])['Other_Sales'].sum()], axis=1)"
      ],
      "execution_count": null,
      "outputs": []
    },
    {
      "cell_type": "code",
      "metadata": {
        "id": "akzpBfUbj4lz",
        "colab": {
          "base_uri": "https://localhost:8080/"
        },
        "outputId": "d6a3263f-1945-4ad2-cdc1-d96fb8b9e9bf"
      },
      "source": [
        "# 2) Normality Test\n",
        "print(shapiro(sales_data['NA_Sales']))\n",
        "print(shapiro(sales_data['JP_Sales']))\n",
        "print(shapiro(sales_data['Other_Sales']))\n",
        "print(shapiro(sales_data['EU_Sales']))"
      ],
      "execution_count": null,
      "outputs": [
        {
          "output_type": "stream",
          "text": [
            "(0.8345112204551697, 0.023759527131915092)\n",
            "(0.4866132140159607, 1.4100394764682278e-05)\n",
            "(0.885897159576416, 0.10433951020240784)\n",
            "(0.8641074299812317, 0.05505203828215599)\n"
          ],
          "name": "stdout"
        }
      ]
    },
    {
      "cell_type": "code",
      "metadata": {
        "id": "bUZ0ov_Atrct",
        "colab": {
          "base_uri": "https://localhost:8080/"
        },
        "outputId": "7a906742-7af0-41e1-9625-286d40cc494f"
      },
      "source": [
        "# 2) sales_data['NA_Sales']'s p-value<0.05, Use Kruskal Wallis Test\n",
        "s, p = stats.kruskal(sales_data['NA_Sales'], sales_data['JP_Sales'], sales_data['EU_Sales'], sales_data['Other_Sales'])\n",
        "print(p.round(3), '<0.05, so not statistically significant.')"
      ],
      "execution_count": null,
      "outputs": [
        {
          "output_type": "stream",
          "text": [
            "0.005 <0.05, so not statistically significant.\n"
          ],
          "name": "stdout"
        }
      ]
    }
  ]
}