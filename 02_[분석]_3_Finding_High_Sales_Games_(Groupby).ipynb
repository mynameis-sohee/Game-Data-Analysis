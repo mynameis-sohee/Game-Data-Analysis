{
  "nbformat": 4,
  "nbformat_minor": 0,
  "metadata": {
    "colab": {
      "name": "02 [분석] 3. Finding High-Sales Games (Groupby)",
      "provenance": [],
      "collapsed_sections": []
    },
    "kernelspec": {
      "name": "python3",
      "display_name": "Python 3"
    },
    "language_info": {
      "name": "python"
    }
  },
  "cells": [
    {
      "cell_type": "markdown",
      "metadata": {
        "id": "kJKRwN8HU7sd"
      },
      "source": [
        "#**Analysis 3. Finding High-Sales Games (Groupby)**"
      ]
    },
    {
      "cell_type": "code",
      "metadata": {
        "id": "6W-JEXO6VC4c"
      },
      "source": [
        "# Sorting\n",
        "df.sort_values(by='Sales',ascending=False, inplace=True)\n",
        "df.reset_index(drop=True,inplace=True)"
      ],
      "execution_count": null,
      "outputs": []
    },
    {
      "cell_type": "code",
      "metadata": {
        "colab": {
          "base_uri": "https://localhost:8080/",
          "height": 106
        },
        "id": "x6zgDll-JMKy",
        "outputId": "6136ed7a-a82c-475e-915e-4d38b93ee7e0"
      },
      "source": [
        "df.head(2)"
      ],
      "execution_count": null,
      "outputs": [
        {
          "output_type": "execute_result",
          "data": {
            "text/html": [
              "<div>\n",
              "<style scoped>\n",
              "    .dataframe tbody tr th:only-of-type {\n",
              "        vertical-align: middle;\n",
              "    }\n",
              "\n",
              "    .dataframe tbody tr th {\n",
              "        vertical-align: top;\n",
              "    }\n",
              "\n",
              "    .dataframe thead th {\n",
              "        text-align: right;\n",
              "    }\n",
              "</style>\n",
              "<table border=\"1\" class=\"dataframe\">\n",
              "  <thead>\n",
              "    <tr style=\"text-align: right;\">\n",
              "      <th></th>\n",
              "      <th>Name</th>\n",
              "      <th>Platform</th>\n",
              "      <th>Year</th>\n",
              "      <th>Genre</th>\n",
              "      <th>Publisher</th>\n",
              "      <th>NA_Sales</th>\n",
              "      <th>EU_Sales</th>\n",
              "      <th>JP_Sales</th>\n",
              "      <th>Other_Sales</th>\n",
              "      <th>Year_GR</th>\n",
              "      <th>Sales</th>\n",
              "    </tr>\n",
              "  </thead>\n",
              "  <tbody>\n",
              "    <tr>\n",
              "      <th>0</th>\n",
              "      <td>Grand Theft Auto V</td>\n",
              "      <td>X360</td>\n",
              "      <td>2013.0</td>\n",
              "      <td>Action</td>\n",
              "      <td>Take-Two Interactive</td>\n",
              "      <td>9630000.0</td>\n",
              "      <td>5.31</td>\n",
              "      <td>0.06</td>\n",
              "      <td>1.38</td>\n",
              "      <td>201</td>\n",
              "      <td>9630006.75</td>\n",
              "    </tr>\n",
              "    <tr>\n",
              "      <th>1</th>\n",
              "      <td>Halo: Reach</td>\n",
              "      <td>X360</td>\n",
              "      <td>2010.0</td>\n",
              "      <td>Shooter</td>\n",
              "      <td>Microsoft Game Studios</td>\n",
              "      <td>7030000.0</td>\n",
              "      <td>1.98</td>\n",
              "      <td>0.08</td>\n",
              "      <td>0.78</td>\n",
              "      <td>201</td>\n",
              "      <td>7030002.84</td>\n",
              "    </tr>\n",
              "  </tbody>\n",
              "</table>\n",
              "</div>"
            ],
            "text/plain": [
              "                 Name Platform    Year  ... Other_Sales Year_GR       Sales\n",
              "0  Grand Theft Auto V     X360  2013.0  ...        1.38     201  9630006.75\n",
              "1         Halo: Reach     X360  2010.0  ...        0.78     201  7030002.84\n",
              "\n",
              "[2 rows x 11 columns]"
            ]
          },
          "metadata": {
            "tags": []
          },
          "execution_count": 26
        }
      ]
    },
    {
      "cell_type": "code",
      "metadata": {
        "colab": {
          "base_uri": "https://localhost:8080/",
          "height": 195
        },
        "id": "tQjR6txvYP5Y",
        "outputId": "5758aaad-be83-4a79-9529-722debfb02d8"
      },
      "source": [
        "# Total grouping\n",
        "\n",
        "group_total = df.groupby(['Platform','Publisher','Genre']).agg({'Sales': 'sum'}).reset_index().sort_values(by='Sales', ascending=False).reset_index(drop=True)\n",
        "group_total.head(5)"
      ],
      "execution_count": null,
      "outputs": [
        {
          "output_type": "execute_result",
          "data": {
            "text/html": [
              "<div>\n",
              "<style scoped>\n",
              "    .dataframe tbody tr th:only-of-type {\n",
              "        vertical-align: middle;\n",
              "    }\n",
              "\n",
              "    .dataframe tbody tr th {\n",
              "        vertical-align: top;\n",
              "    }\n",
              "\n",
              "    .dataframe thead th {\n",
              "        text-align: right;\n",
              "    }\n",
              "</style>\n",
              "<table border=\"1\" class=\"dataframe\">\n",
              "  <thead>\n",
              "    <tr style=\"text-align: right;\">\n",
              "      <th></th>\n",
              "      <th>Platform</th>\n",
              "      <th>Publisher</th>\n",
              "      <th>Genre</th>\n",
              "      <th>Sales</th>\n",
              "    </tr>\n",
              "  </thead>\n",
              "  <tbody>\n",
              "    <tr>\n",
              "      <th>0</th>\n",
              "      <td>X360</td>\n",
              "      <td>Take-Two Interactive</td>\n",
              "      <td>Action</td>\n",
              "      <td>9630033.52</td>\n",
              "    </tr>\n",
              "    <tr>\n",
              "      <th>1</th>\n",
              "      <td>X360</td>\n",
              "      <td>Microsoft Game Studios</td>\n",
              "      <td>Shooter</td>\n",
              "      <td>7030058.46</td>\n",
              "    </tr>\n",
              "    <tr>\n",
              "      <th>2</th>\n",
              "      <td>N64</td>\n",
              "      <td>Nintendo</td>\n",
              "      <td>Racing</td>\n",
              "      <td>5630019.65</td>\n",
              "    </tr>\n",
              "    <tr>\n",
              "      <th>3</th>\n",
              "      <td>N64</td>\n",
              "      <td>Nintendo</td>\n",
              "      <td>Action</td>\n",
              "      <td>4100014.21</td>\n",
              "    </tr>\n",
              "    <tr>\n",
              "      <th>4</th>\n",
              "      <td>X360</td>\n",
              "      <td>Electronic Arts</td>\n",
              "      <td>Shooter</td>\n",
              "      <td>3510036.28</td>\n",
              "    </tr>\n",
              "  </tbody>\n",
              "</table>\n",
              "</div>"
            ],
            "text/plain": [
              "  Platform               Publisher    Genre       Sales\n",
              "0     X360    Take-Two Interactive   Action  9630033.52\n",
              "1     X360  Microsoft Game Studios  Shooter  7030058.46\n",
              "2      N64                Nintendo   Racing  5630019.65\n",
              "3      N64                Nintendo   Action  4100014.21\n",
              "4     X360         Electronic Arts  Shooter  3510036.28"
            ]
          },
          "metadata": {
            "tags": []
          },
          "execution_count": 46
        }
      ]
    },
    {
      "cell_type": "code",
      "metadata": {
        "colab": {
          "base_uri": "https://localhost:8080/"
        },
        "id": "ydEB3Pcj0Lbe",
        "outputId": "dc82f9b0-cde6-4ba2-fcc5-32cc0f7b38d9"
      },
      "source": [
        "# Only one feature grouping\n",
        "\n",
        "for i in ['Platform','Publisher','Genre']:\n",
        "  gr = df.groupby([i]).agg({'Sales': 'sum'}).reset_index().sort_values(by='Sales', ascending=False).reset_index(drop=True)\n",
        "  print('Max Sales - {} : '.format(i),gr.iloc[0,0])"
      ],
      "execution_count": null,
      "outputs": [
        {
          "output_type": "stream",
          "text": [
            "Max Sales - Platform :  X360\n",
            "Max Sales - Publisher :  Nintendo\n",
            "Max Sales - Genre :  Action\n"
          ],
          "name": "stdout"
        }
      ]
    }
  ]
}